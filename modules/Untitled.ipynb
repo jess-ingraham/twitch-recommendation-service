{
 "cells": [
  {
   "cell_type": "code",
   "execution_count": 2,
   "metadata": {
    "collapsed": true
   },
   "outputs": [],
   "source": [
    "import requests\n",
    "import json"
   ]
  },
  {
   "cell_type": "code",
   "execution_count": 34,
   "metadata": {},
   "outputs": [],
   "source": [
    "def getTopGames():\n",
    "    endpoint = \"http://steamspy.com/api.php?request=top100in2weeks\"\n",
    "    resp = requests.get(endpoint)\n",
    "    \n",
    "    games = []\n",
    "    \n",
    "    for key,value in resp.json().items():\n",
    "        #average_2weeks = average playtime in the last two weeks. In minutes.\n",
    "        newdict = {\n",
    "            'appid': value['appid']\n",
    "            ,'name':value['name']\n",
    "            ,'average_hour':value['average_2weeks']/60\n",
    "            ,'score':value['score_rank']\n",
    "        }\n",
    "        games.append(newdict)\n",
    "        \n",
    "    top5games = sorted(games, key = lambda x: x['score'])\n",
    "    \n",
    "    return top5games[:5]\n",
    "    \n",
    "    #return resp.json()"
   ]
  }
 ],
 "metadata": {
  "kernelspec": {
   "display_name": "Python 3",
   "language": "python",
   "name": "python3"
  },
  "language_info": {
   "codemirror_mode": {
    "name": "ipython",
    "version": 3
   },
   "file_extension": ".py",
   "mimetype": "text/x-python",
   "name": "python",
   "nbconvert_exporter": "python",
   "pygments_lexer": "ipython3",
   "version": "3.6.1"
  }
 },
 "nbformat": 4,
 "nbformat_minor": 2
}
